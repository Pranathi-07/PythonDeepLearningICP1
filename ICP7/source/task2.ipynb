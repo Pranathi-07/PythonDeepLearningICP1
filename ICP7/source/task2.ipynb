{
 "cells": [
  {
   "cell_type": "code",
   "execution_count": null,
   "metadata": {},
   "outputs": [],
   "source": [
    "from bs4 import BeautifulSoup\n",
    "import urllib.request\n",
    "\n",
    "\n",
    "def search_spider():\n",
    "\n",
    "    url = \"https://en.wikipedia.org/wiki/Google\"\n",
    "    source_code = urllib.request.urlopen(url)\n",
    "    soup = BeautifulSoup(source_code, \"html.parser\")\n",
    "\n",
    "    body = soup.find('div', {'class': 'mw-parser-output'})\n",
    "    file.write(str(body.text))\n",
    "\n",
    "\n",
    "\n",
    "file = open('input1.txt', 'a+', encoding='utf-8')\n",
    "search_spider()"
   ]
  },
  {
   "cell_type": "code",
   "execution_count": null,
   "metadata": {},
   "outputs": [],
   "source": [
    "import nltk\n",
    "nltk.download('punkt')\n",
    "nltk.download('averaged_perceptron_tagger')\n",
    "nltk.download('maxent_ne_chunker')\n",
    "nltk.download('words')\n",
    "from nltk.tokenize import sent_tokenize, word_tokenize\n",
    "\n",
    "sentence = open('input1.txt', encoding=\"utf8\").read()\n",
    "\n",
    "# Tokenization\n",
    "\n",
    "wtokens = nltk.word_tokenize(sentence)\n",
    "\n",
    "print(\"============== Word  Tokenization ==============\")\n",
    "print(wtokens)"
   ]
  },
  {
   "cell_type": "code",
   "execution_count": null,
   "metadata": {},
   "outputs": [],
   "source": [
    "stokens = nltk.sent_tokenize(sentence)\n",
    "print(\"\\n============== Sentence  Tokenization ==============\\n\")\n",
    "print(stokens)"
   ]
  },
  {
   "cell_type": "code",
   "execution_count": null,
   "metadata": {},
   "outputs": [],
   "source": [
    "#POS\n",
    "import nltk\n",
    "from nltk.tokenize import word_tokenize\n",
    "text = nltk.word_tokenize(sentence)\n",
    "print(nltk.pos_tag(text))"
   ]
  },
  {
   "cell_type": "code",
   "execution_count": null,
   "metadata": {},
   "outputs": [],
   "source": [
    "from nltk.stem import PorterStemmer\n",
    "from nltk.stem import LancasterStemmer\n",
    "from nltk.stem import SnowballStemmer\n",
    "\n",
    "pStemmer = PorterStemmer()\n",
    "for s in stokens:\n",
    "   \n",
    "        print(pStemmer.stem(s))"
   ]
  },
  {
   "cell_type": "code",
   "execution_count": null,
   "metadata": {},
   "outputs": [],
   "source": [
    "lStemmer = LancasterStemmer()\n",
    "print(lStemmer.stem(sentence))\n",
    "for s in stokens:\n",
    "   \n",
    "        print(lStemmer.stem(s))"
   ]
  },
  {
   "cell_type": "code",
   "execution_count": null,
   "metadata": {},
   "outputs": [],
   "source": [
    "sStemmer = SnowballStemmer('english')\n",
    "print(lStemmer.stem(sentence))\n",
    "for s in stokens:\n",
    "   \n",
    "        print(sStemmer.stem(s))"
   ]
  },
  {
   "cell_type": "code",
   "execution_count": null,
   "metadata": {},
   "outputs": [],
   "source": [
    "#Lemmatization\n",
    "import nltk\n",
    "nltk.download('wordnet')\n",
    "from nltk.stem import WordNetLemmatizer\n",
    "\n",
    "lemmatizer = WordNetLemmatizer()\n",
    "\n",
    "for s in stokens:\n",
    "   \n",
    "        print(lemmatizer.lemmatize(s))"
   ]
  },
  {
   "cell_type": "code",
   "execution_count": null,
   "metadata": {},
   "outputs": [],
   "source": [
    "#trigram\n",
    "from nltk.util import ngrams\n",
    "tokens = nltk.word_tokenize(sentence)\n",
    "trigrams = list(ngrams(tokens, 3))\n",
    "print(trigrams)"
   ]
  },
  {
   "cell_type": "code",
   "execution_count": null,
   "metadata": {},
   "outputs": [],
   "source": [
    "from nltk import word_tokenize, pos_tag, ne_chunk\n",
    "n = 0\n",
    "for s in stokens:\n",
    "   \n",
    "        print(ne_chunk(pos_tag(word_tokenize(s))))"
   ]
  }
 ],
 "metadata": {
  "kernelspec": {
   "display_name": "Python 3",
   "language": "python",
   "name": "python3"
  },
  "language_info": {
   "codemirror_mode": {
    "name": "ipython",
    "version": 3
   },
   "file_extension": ".py",
   "mimetype": "text/x-python",
   "name": "python",
   "nbconvert_exporter": "python",
   "pygments_lexer": "ipython3",
   "version": "3.7.6"
  }
 },
 "nbformat": 4,
 "nbformat_minor": 4
}
