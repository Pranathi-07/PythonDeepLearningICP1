{
 "cells": [
  {
   "cell_type": "code",
   "execution_count": 1,
   "metadata": {},
   "outputs": [
    {
     "name": "stdout",
     "output_type": "stream",
     "text": [
      "['alt.atheism', 'comp.graphics', 'comp.os.ms-windows.misc', 'comp.sys.ibm.pc.hardware', 'comp.sys.mac.hardware', 'comp.windows.x', 'misc.forsale', 'rec.autos', 'rec.motorcycles', 'rec.sport.baseball', 'rec.sport.hockey', 'sci.crypt', 'sci.electronics', 'sci.med', 'sci.space', 'soc.religion.christian', 'talk.politics.guns', 'talk.politics.mideast', 'talk.politics.misc', 'talk.religion.misc']\n",
      "['alt.atheism', 'comp.graphics', 'sci.med', 'soc.religion.christian']\n",
      "Score with SVC: 89.01\n"
     ]
    }
   ],
   "source": [
    "from sklearn.datasets import fetch_20newsgroups\n",
    "\n",
    "from sklearn.feature_extraction.text import CountVectorizer, TfidfVectorizer\n",
    "from sklearn.feature_extraction.text import TfidfTransformer\n",
    "from sklearn import metrics\n",
    "from sklearn.pipeline import Pipeline\n",
    "from sklearn.naive_bayes import MultinomialNB\n",
    "from sklearn.svm import SVC\n",
    "from pprint import pprint\n",
    "twenty_train1 = fetch_20newsgroups(subset='train', categories=None, shuffle=True)\n",
    "\n",
    "print(list(twenty_train1.target_names))\n",
    "\n",
    "categories = ['alt.atheism', 'soc.religion.christian',\n",
    "              'comp.graphics', 'sci.med']\n",
    "\n",
    "twenty_train = fetch_20newsgroups(subset='train', categories=categories, shuffle=True)\n",
    "\n",
    "print(list(twenty_train.target_names))\n",
    "\n",
    "\n",
    "\n",
    "tfidf_Vect = TfidfVectorizer()\n",
    "X_train_tfidf = tfidf_Vect.fit_transform(twenty_train.data)\n",
    "clf = SVC()\n",
    "clf.fit(X_train_tfidf, twenty_train.target)\n",
    "twenty_test = fetch_20newsgroups(subset='test', categories=categories, shuffle=True)\n",
    "X_test_tfidf = tfidf_Vect.transform(twenty_test.data)\n",
    "predicted = clf.predict(X_test_tfidf)\n",
    "score = round(clf.score(X_test_tfidf, twenty_test.target) * 100, 2)\n",
    "print(\"Score with SVC: \" + str(score))"
   ]
  },
  {
   "cell_type": "code",
   "execution_count": 2,
   "metadata": {},
   "outputs": [
    {
     "name": "stdout",
     "output_type": "stream",
     "text": [
      "TfidfVectorizer score: 0.7740308019118428\n",
      "TfidfVectorizer score with ngram: 0.7648698884758365\n",
      "TfidfVectorizer score with english stop words: 0.8170472650026553\n"
     ]
    }
   ],
   "source": [
    "from sklearn.datasets import fetch_20newsgroups\n",
    "\n",
    "from sklearn.feature_extraction.text import CountVectorizer, TfidfVectorizer\n",
    "from sklearn.feature_extraction.text import TfidfTransformer\n",
    "from sklearn import metrics\n",
    "from sklearn.pipeline import Pipeline\n",
    "from sklearn.naive_bayes import MultinomialNB\n",
    "\n",
    "twenty_train = fetch_20newsgroups(subset='train', shuffle=True)\n",
    "\n",
    "#change the tfidfvectorizer to use bigram \n",
    "tfidf_Vect = TfidfVectorizer()\n",
    "tfidf_Vect1 = TfidfVectorizer(ngram_range=(1, 2))\n",
    "tfidf_Vect2 = TfidfVectorizer(stop_words='english')\n",
    "\n",
    "X_train_tfidf = tfidf_Vect.fit_transform(twenty_train.data)\n",
    "X_train_tfidf1 = tfidf_Vect1.fit_transform(twenty_train.data)\n",
    "X_train_tfidf2 = tfidf_Vect2.fit_transform(twenty_train.data)\n",
    "\n",
    "\n",
    "# print(tfidf_Vect.vocabulary_)\n",
    "clf = MultinomialNB()\n",
    "clf.fit(X_train_tfidf, twenty_train.target)\n",
    "\n",
    "twenty_test = fetch_20newsgroups(subset='test', shuffle=True)\n",
    "X_test_tfidf = tfidf_Vect.transform(twenty_test.data)\n",
    "\n",
    "predicted = clf.predict(X_test_tfidf)\n",
    "\n",
    "score = metrics.accuracy_score(twenty_test.target, predicted)\n",
    "print(\"TfidfVectorizer score: \" + str(score))\n",
    "\n",
    "#score for X_train_tfidf1\n",
    "clf1 = MultinomialNB()\n",
    "clf1.fit(X_train_tfidf1, twenty_train.target)\n",
    "\n",
    "twenty_test = fetch_20newsgroups(subset='test', shuffle=True)\n",
    "X_test_tfidf1 = tfidf_Vect1.transform(twenty_test.data)\n",
    "\n",
    "predicted1 = clf1.predict(X_test_tfidf1)\n",
    "\n",
    "score1 = metrics.accuracy_score(twenty_test.target, predicted1)\n",
    "print(\"TfidfVectorizer score with ngram: \" + str(score1))\n",
    "\n",
    "\n",
    "#score for X_train_tfidf2\n",
    "clf2 = MultinomialNB()\n",
    "clf2.fit(X_train_tfidf2, twenty_train.target)\n",
    "\n",
    "twenty_test = fetch_20newsgroups(subset='test', shuffle=True)\n",
    "X_test_tfidf2 = tfidf_Vect2.transform(twenty_test.data)\n",
    "\n",
    "predicted2 = clf2.predict(X_test_tfidf2)\n",
    "\n",
    "score3 = metrics.accuracy_score(twenty_test.target, predicted2)\n",
    "print(\"TfidfVectorizer score with english stop words: \" + str(score3))"
   ]
  },
  {
   "cell_type": "code",
   "execution_count": null,
   "metadata": {},
   "outputs": [],
   "source": []
  }
 ],
 "metadata": {
  "kernelspec": {
   "display_name": "Python 3",
   "language": "python",
   "name": "python3"
  },
  "language_info": {
   "codemirror_mode": {
    "name": "ipython",
    "version": 3
   },
   "file_extension": ".py",
   "mimetype": "text/x-python",
   "name": "python",
   "nbconvert_exporter": "python",
   "pygments_lexer": "ipython3",
   "version": "3.7.6"
  }
 },
 "nbformat": 4,
 "nbformat_minor": 4
}
